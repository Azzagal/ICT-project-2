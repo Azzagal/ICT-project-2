{
 "cells": [
  {
   "cell_type": "markdown",
   "metadata": {
    "deletable": false,
    "editable": false,
    "id": "j7kUOJkq0GUo"
   },
   "source": [
    "# Project 2 - Source coding, data compression and channel coding\n",
    "\n",
    "The goal of this second project is to apply some of the principles seen in the lectures about source coding, data compression and channel coding. We ask you to write a brief report (pdf format) collecting your answers to the different questions. All codes must be written in Python inside this Jupyter. Note that you can not change the content of locked cells or import any extra Python library than the ones already imported (numpy)."
   ]
  },
  {
   "cell_type": "markdown",
   "metadata": {
    "deletable": false,
    "editable": false,
    "id": "Ztp8uLg40GUt"
   },
   "source": [
    "## Implementation\n",
    "\n",
    "In this project, you will need to use implement source coding algorithms to answer several questions. Therefore, in this first part, you are asked to write several functions that implement two of the  algorithms seen in the theoretical lectures and one new algorithm described in the project statement. Remember that you need to fill in this Jupyter Notebook to answer these questions. Pay particular attention to the required input and output format of each function."
   ]
  },
  {
   "cell_type": "code",
   "execution_count": 1,
   "metadata": {
    "deletable": false,
    "editable": false,
    "id": "Hj-l1-GY0GUu"
   },
   "outputs": [],
   "source": [
    "# [Locked Cell] You can not import any extra Python library in this Notebook.\n",
    "import numpy as np"
   ]
  },
  {
   "cell_type": "markdown",
   "metadata": {
    "deletable": false,
    "editable": false,
    "id": "B8U7YQaO0GUv"
   },
   "source": [
    "### Question 1\n",
    "Implement a function that returns a binary Huffman code for a given probability distribution. Give the main steps of your implementation. Verify your code on Exercise 7 of the second exercise session (TP2), and report the output of your code for this example. Explain how to extend your function to generate a Huffman code of any (output) alphabet size.\n"
   ]
  },
  {
   "cell_type": "code",
   "execution_count": 9,
   "metadata": {
    "id": "Ale82t7g0GUw"
   },
   "outputs": [
    {
     "name": "stdout",
     "output_type": "stream",
     "text": [
      "{'C': '00', 'D': '01', 'E': '10', 'A': '110', 'B': '111'}\n"
     ]
    }
   ],
   "source": [
    "class Node:\n",
    "    def __init__(self, prob, symbol=None, left=None, right=None):\n",
    "        self.prob = prob\n",
    "        self.symbol = symbol\n",
    "        self.left = left\n",
    "        self.right = right\n",
    "\n",
    "def Huffman_code(probability_dict):\n",
    "    \"\"\"\n",
    "    Create the Huffman code for given probabilities\n",
    "\n",
    "    Arguments:\n",
    "    ----------\n",
    "    probability_dict:\n",
    "      - keys: symbol as character or string\n",
    "      - values: probability of the symbol as a float or double\n",
    "      Example: {\"A\": 0.25, \"B\":0.5,\"C\":0.125,\"D\":0.125}\n",
    "\n",
    "    Return:\n",
    "    -------\n",
    "    - codewords: dictionary with the name and the corresponding codeword\n",
    "      - keys: symbol as character or string\n",
    "      - values: associated codeword as a character or a string\n",
    "      Example: {\"A\": \"10\", \"B\":\"0\",\"C\":\"111\",\"D\":\"110\"}\n",
    "\n",
    "    \"\"\"\n",
    "    \n",
    "    # Step 1: Create initial list of nodes\n",
    "    nodes = [Node(prob, symbol) for symbol, prob in probability_dict.items()]\n",
    "\n",
    "    # Step 2: Manually manage the priority queue\n",
    "    while len(nodes) > 1:\n",
    "        # Sort nodes by probability using numpy\n",
    "        probs = np.array([node.prob for node in nodes])\n",
    "        sorted_indices = np.argsort(probs)\n",
    "        nodes = [nodes[i] for i in sorted_indices]\n",
    "\n",
    "        # Combine two nodes with smallest probabilities\n",
    "        left = nodes.pop(0)\n",
    "        right = nodes.pop(0)\n",
    "        merged = Node(left.prob + right.prob, None, left, right)\n",
    "\n",
    "        # Add new node back\n",
    "        nodes.append(merged)\n",
    "\n",
    "    # Step 3: Traverse the final tree to build the codebook\n",
    "    def generate_codes(node, prefix=\"\", codebook={}):\n",
    "        if node.symbol is not None:\n",
    "            codebook[node.symbol] = prefix\n",
    "        else:\n",
    "            generate_codes(node.left, prefix + \"0\", codebook)\n",
    "            generate_codes(node.right, prefix + \"1\", codebook)\n",
    "        return codebook\n",
    "\n",
    "    return generate_codes(nodes[0])\n",
    "\n",
    "probs = {\"A\": 0.2, \"B\": 0.2, \"C\": 0.2, \"D\": 0.2, \"E\": 0.2}\n",
    "codes = Huffman_code(probs)\n",
    "print(codes)"
   ]
  },
  {
   "cell_type": "markdown",
   "metadata": {
    "deletable": false,
    "editable": false,
    "id": "_KjzF5nZ0GUw"
   },
   "source": [
    "### Question 2\n",
    "\n",
    "Given a sequence of symbols, implement a function that returns a dictionary and the encoded sequence using the on-line Lempel-Ziv algorithm (see State of the art in data compression, slide 50/53). Reproduce and report the example given in the course."
   ]
  },
  {
   "cell_type": "code",
   "execution_count": null,
   "metadata": {
    "id": "dxyFyrmh0GUx"
   },
   "outputs": [
    {
     "name": "stdout",
     "output_type": "stream",
     "text": [
      "Encoded sequence: [(0, 'a'), (0, 'b'), (1, 'b'), (0, 'c'), (2, 'a'), (5, 'b'), (1, 'a'), (7, 'a'), (1, 'a')]\n",
      "Final dictionary:\n",
      "0: ''\n",
      "1: 'a'\n",
      "2: 'b'\n",
      "3: 'ab'\n",
      "4: 'c'\n",
      "5: 'ba'\n",
      "6: 'bab'\n",
      "7: 'aa'\n",
      "8: 'aaa'\n"
     ]
    }
   ],
   "source": [
    "\n",
    "def LZ_online(sequence):\n",
    "    \"\"\"\n",
    "    The on-line Lempel-Ziv algorithm given a sequence of symbols\n",
    "    Arguments:\n",
    "    ----------\n",
    "    - sequence : Sequence of symbols in the string format\n",
    "\n",
    "    Return:\n",
    "    -------\n",
    "    - dictionary : the computed dictionnary in the form:\n",
    "        - keys: symbol as character or string\n",
    "        - values: associated codeword as a tuple composed of the entry index (integer) and a binarized adress with one appended symbol (character or string)\n",
    "        Example: {'': (0, ''), '0': (1, '0'), '1': (2, '01'), '00': (3, '010'), '10': (4, '100')}\n",
    "    - encoded_sequence : the encoded sequence in the string format\n",
    "    \"\"\"\n",
    "\n",
    "    dictionary = {\"\": 0}  # Empty string is always index 0\n",
    "    encoded_sequence = []\n",
    "    current_phrase = \"\"\n",
    "    index = 1  # Start indexing from 1\n",
    "\n",
    "    for char in sequence:\n",
    "        new_phrase = current_phrase + char\n",
    "        if new_phrase not in dictionary:\n",
    "            # Add new phrase to dictionary\n",
    "            encoded_sequence.append((dictionary[current_phrase], char))\n",
    "            dictionary[new_phrase] = index\n",
    "            index += 1\n",
    "            current_phrase = \"\"\n",
    "        else:\n",
    "            current_phrase = new_phrase\n",
    "\n",
    "    # Handle any remaining phrase\n",
    "    if current_phrase:\n",
    "        encoded_sequence.append((dictionary.get(current_phrase[:-1], 0), current_phrase[-1]))\n",
    "\n",
    "    return dictionary, encoded_sequence\n",
    "\n",
    "s = \"ababcbababaaaaaaa\"\n",
    "\n",
    "dictionary, encoded = LZ_online(s)\n",
    "\n",
    "print(\"Encoded sequence:\", encoded)\n",
    "\n",
    "print(\"Final dictionary:\")\n",
    "\n",
    "for k, v in dictionary.items():\n",
    "    print(f\"{v}: '{k}'\")\n"
   ]
  },
  {
   "cell_type": "markdown",
   "metadata": {
    "deletable": false,
    "editable": false,
    "id": "UG7cwbf50GUx"
   },
   "source": [
    "### Question 4\n",
    "\n",
    "Implement a function that returns the encoded sequence using the LZ77 algorithm as described by the algorithm below given an input string and a sliding window size l. Reproduce the example given in Figure 2 with window_size=7."
   ]
  },
  {
   "cell_type": "code",
   "execution_count": 15,
   "metadata": {
    "id": "aHoBHPcL0GUy"
   },
   "outputs": [
    {
     "name": "stdout",
     "output_type": "stream",
     "text": [
      "Encoded sequence:\n",
      "(0, 0, 'a')\n",
      "(0, 0, 'b')\n",
      "(0, 0, 'r')\n",
      "(3, 1, 'c')\n",
      "(5, 1, 'd')\n",
      "(7, 4, 'd')\n"
     ]
    }
   ],
   "source": [
    "def LZ77(sequence, window_size=7):\n",
    "    \"\"\"\n",
    "    The Lempel-Ziv 77 algorithm given a sequence of symbols and the sliding window size\n",
    "\n",
    "    Arguments:\n",
    "    ----------\n",
    "    - sequence : Sequence of symbols in the string format\n",
    "    - window_size : sliding window size as an integer\n",
    "\n",
    "    Return:\n",
    "    -------\n",
    "    - encoded_sequence : the encoded sequence in the string format\n",
    "    \"\"\"\n",
    "\n",
    "    encoded_sequence = []\n",
    "    i = 0  # Current position in the input string\n",
    "    \n",
    "    while i < len(sequence):\n",
    "        match = (0, 0)  # (offset, length)\n",
    "        for j in range(max(0, i - window_size), i):\n",
    "            length = 0\n",
    "            while (i + length < len(sequence) and\n",
    "                   sequence[j + length] == sequence[i + length]):\n",
    "                length += 1\n",
    "                if j + length >= i:\n",
    "                    break  # Don't overflow current index\n",
    "            \n",
    "            if length > match[1]:\n",
    "                match = (i - j, length)\n",
    "        \n",
    "        # If a match is found\n",
    "        if match[1] > 0:\n",
    "            next_char_index = i + match[1]\n",
    "            next_char = sequence[next_char_index] if next_char_index < len(sequence) else ''\n",
    "            encoded_sequence.append((match[0], match[1], next_char))\n",
    "            i += match[1] + 1\n",
    "        else:\n",
    "            encoded_sequence.append((0, 0, sequence[i]))\n",
    "            i += 1\n",
    "\n",
    "    return encoded_sequence\n",
    "\n",
    "result = LZ77(\"abracadabrad\", window_size=7)\n",
    "\n",
    "print(\"Encoded sequence:\")\n",
    "\n",
    "for triplet in result:\n",
    "    print(triplet)\n",
    "\n"
   ]
  },
  {
   "cell_type": "code",
   "execution_count": null,
   "metadata": {
    "deletable": false,
    "editable": false,
    "id": "EG1vVgUg0GUz"
   },
   "outputs": [],
   "source": [
    "# [Locked Cell] Evaluation of your functions by the examiner.\n",
    "# You don't have access to the evaluation, this will be done by the examiner.\n",
    "# Therefore, this cell will return nothing for the students.\n",
    "import os\n",
    "if os.path.isfile(\"private_evaluation.py\"):\n",
    "    from private_evaluation import unit_tests\n",
    "    unit_tests(Huffman_code, LZ_online, LZ77)"
   ]
  },
  {
   "cell_type": "markdown",
   "metadata": {
    "deletable": false,
    "editable": false,
    "id": "znaBCYTG0GU0"
   },
   "source": [
    "## Source coding and reversible (lossless) data compression\n"
   ]
  },
  {
   "cell_type": "code",
   "execution_count": 6,
   "metadata": {
    "id": "-F_fTEp10GU0"
   },
   "outputs": [],
   "source": [
    "# Write here your codes for questions 5 to 16 (you may delete this comment)"
   ]
  },
  {
   "cell_type": "markdown",
   "metadata": {
    "id": "arr1rcE65c6K"
   },
   "source": [
    "## Channel coding"
   ]
  },
  {
   "cell_type": "code",
   "execution_count": 7,
   "metadata": {
    "id": "ZLwLdqlh5qE5"
   },
   "outputs": [],
   "source": [
    "# Write here your codes for questions 17 to 22 (you may delete this comment)"
   ]
  }
 ],
 "metadata": {
  "celltoolbar": "Edit Metadata",
  "colab": {
   "provenance": []
  },
  "kernelspec": {
   "display_name": "base",
   "language": "python",
   "name": "python3"
  },
  "language_info": {
   "codemirror_mode": {
    "name": "ipython",
    "version": 3
   },
   "file_extension": ".py",
   "mimetype": "text/x-python",
   "name": "python",
   "nbconvert_exporter": "python",
   "pygments_lexer": "ipython3",
   "version": "3.11.4"
  }
 },
 "nbformat": 4,
 "nbformat_minor": 0
}
