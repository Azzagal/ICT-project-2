{
 "cells": [
  {
   "cell_type": "markdown",
   "metadata": {
    "deletable": false,
    "editable": false,
    "id": "j7kUOJkq0GUo"
   },
   "source": [
    "# Project 2 - Source coding, data compression and channel coding\n",
    "\n",
    "The goal of this second project is to apply some of the principles seen in the lectures about source coding, data compression and channel coding. We ask you to write a brief report (pdf format) collecting your answers to the different questions. All codes must be written in Python inside this Jupyter. Note that you can not change the content of locked cells or import any extra Python library than the ones already imported (numpy)."
   ]
  },
  {
   "cell_type": "markdown",
   "metadata": {
    "deletable": false,
    "editable": false,
    "id": "Ztp8uLg40GUt"
   },
   "source": [
    "## Implementation\n",
    "\n",
    "In this project, you will need to use implement source coding algorithms to answer several questions. Therefore, in this first part, you are asked to write several functions that implement two of the  algorithms seen in the theoretical lectures and one new algorithm described in the project statement. Remember that you need to fill in this Jupyter Notebook to answer these questions. Pay particular attention to the required input and output format of each function."
   ]
  },
  {
   "cell_type": "code",
   "execution_count": 1,
   "metadata": {
    "deletable": false,
    "editable": false,
    "id": "Hj-l1-GY0GUu"
   },
   "outputs": [],
   "source": [
    "# [Locked Cell] You can not import any extra Python library in this Notebook.\n",
    "import numpy as np"
   ]
  },
  {
   "cell_type": "markdown",
   "metadata": {
    "deletable": false,
    "editable": false,
    "id": "B8U7YQaO0GUv"
   },
   "source": [
    "### Question 1\n",
    "Implement a function that returns a binary Huffman code for a given probability distribution. Give the main steps of your implementation. Verify your code on Exercise 7 of the second exercise session (TP2), and report the output of your code for this example. Explain how to extend your function to generate a Huffman code of any (output) alphabet size.\n"
   ]
  },
  {
   "cell_type": "code",
   "execution_count": 9,
   "metadata": {
    "id": "Ale82t7g0GUw"
   },
   "outputs": [
    {
     "name": "stdout",
     "output_type": "stream",
     "text": [
      "{'C': '00', 'D': '01', 'E': '10', 'A': '110', 'B': '111'}\n"
     ]
    }
   ],
   "source": [
    "class Node:\n",
    "    def __init__(self, prob, symbol=None, left=None, right=None):\n",
    "        self.prob = prob\n",
    "        self.symbol = symbol\n",
    "        self.left = left\n",
    "        self.right = right\n",
    "\n",
    "def Huffman_code(probability_dict):\n",
    "    \"\"\"\n",
    "    Create the Huffman code for given probabilities\n",
    "\n",
    "    Arguments:\n",
    "    ----------\n",
    "    probability_dict:\n",
    "      - keys: symbol as character or string\n",
    "      - values: probability of the symbol as a float or double\n",
    "      Example: {\"A\": 0.25, \"B\":0.5,\"C\":0.125,\"D\":0.125}\n",
    "\n",
    "    Return:\n",
    "    -------\n",
    "    - codewords: dictionary with the name and the corresponding codeword\n",
    "      - keys: symbol as character or string\n",
    "      - values: associated codeword as a character or a string\n",
    "      Example: {\"A\": \"10\", \"B\":\"0\",\"C\":\"111\",\"D\":\"110\"}\n",
    "\n",
    "    \"\"\"\n",
    "    \n",
    "    # Step 1: Create initial list of nodes\n",
    "    nodes = [Node(prob, symbol) for symbol, prob in probability_dict.items()]\n",
    "\n",
    "    # Step 2: Manually manage the priority queue\n",
    "    while len(nodes) > 1:\n",
    "        # Sort nodes by probability using numpy\n",
    "        probs = np.array([node.prob for node in nodes])\n",
    "        sorted_indices = np.argsort(probs)\n",
    "        nodes = [nodes[i] for i in sorted_indices]\n",
    "\n",
    "        # Combine two nodes with smallest probabilities\n",
    "        left = nodes.pop(0)\n",
    "        right = nodes.pop(0)\n",
    "        merged = Node(left.prob + right.prob, None, left, right)\n",
    "\n",
    "        # Add new node back\n",
    "        nodes.append(merged)\n",
    "\n",
    "    # Step 3: Traverse the final tree to build the codebook\n",
    "    def generate_codes(node, prefix=\"\", codebook={}):\n",
    "        if node.symbol is not None:\n",
    "            codebook[node.symbol] = prefix\n",
    "        else:\n",
    "            generate_codes(node.left, prefix + \"0\", codebook)\n",
    "            generate_codes(node.right, prefix + \"1\", codebook)\n",
    "        return codebook\n",
    "\n",
    "    return generate_codes(nodes[0])\n",
    "\n",
    "probs = {\"A\": 0.2, \"B\": 0.2, \"C\": 0.2, \"D\": 0.2, \"E\": 0.2}\n",
    "codes = Huffman_code(probs)\n",
    "print(codes)"
   ]
  },
  {
   "cell_type": "markdown",
   "metadata": {
    "deletable": false,
    "editable": false,
    "id": "_KjzF5nZ0GUw"
   },
   "source": [
    "### Question 2\n",
    "\n",
    "Given a sequence of symbols, implement a function that returns a dictionary and the encoded sequence using the on-line Lempel-Ziv algorithm (see State of the art in data compression, slide 50/53). Reproduce and report the example given in the course."
   ]
  },
  {
   "cell_type": "code",
   "execution_count": null,
   "metadata": {
    "id": "dxyFyrmh0GUx"
   },
   "outputs": [
    {
     "name": "stdout",
     "output_type": "stream",
     "text": [
      "Encoded sequence: [(0, 'a'), (0, 'b'), (1, 'b'), (0, 'c'), (2, 'a'), (5, 'b'), (1, 'a'), (7, 'a'), (1, 'a')]\n",
      "Final dictionary:\n",
      "0: ''\n",
      "1: 'a'\n",
      "2: 'b'\n",
      "3: 'ab'\n",
      "4: 'c'\n",
      "5: 'ba'\n",
      "6: 'bab'\n",
      "7: 'aa'\n",
      "8: 'aaa'\n"
     ]
    }
   ],
   "source": [
    "\n",
    "def LZ_online(sequence):\n",
    "    \"\"\"\n",
    "    The on-line Lempel-Ziv algorithm given a sequence of symbols\n",
    "    Arguments:\n",
    "    ----------\n",
    "    - sequence : Sequence of symbols in the string format\n",
    "\n",
    "    Return:\n",
    "    -------\n",
    "    - dictionary : the computed dictionnary in the form:\n",
    "        - keys: symbol as character or string\n",
    "        - values: associated codeword as a tuple composed of the entry index (integer) and a binarized adress with one appended symbol (character or string)\n",
    "        Example: {'': (0, ''), '0': (1, '0'), '1': (2, '01'), '00': (3, '010'), '10': (4, '100')}\n",
    "    - encoded_sequence : the encoded sequence in the string format\n",
    "    \"\"\"\n",
    "\n",
    "    dictionary = {\"\": 0}  # Empty string is always index 0\n",
    "    encoded_sequence = []\n",
    "    current_phrase = \"\"\n",
    "    index = 1  # Start indexing from 1\n",
    "\n",
    "    for char in sequence:\n",
    "        new_phrase = current_phrase + char\n",
    "        if new_phrase not in dictionary:\n",
    "            # Add new phrase to dictionary\n",
    "            encoded_sequence.append((dictionary[current_phrase], char))\n",
    "            dictionary[new_phrase] = index\n",
    "            index += 1\n",
    "            current_phrase = \"\"\n",
    "        else:\n",
    "            current_phrase = new_phrase\n",
    "\n",
    "    # Handle any remaining phrase\n",
    "    if current_phrase:\n",
    "        encoded_sequence.append((dictionary.get(current_phrase[:-1], 0), current_phrase[-1]))\n",
    "\n",
    "    return dictionary, encoded_sequence\n",
    "\n",
    "s = \"ababcbababaaaaaaa\"\n",
    "\n",
    "dictionary, encoded = LZ_online(s)\n",
    "\n",
    "print(\"Encoded sequence:\", encoded)\n",
    "\n",
    "print(\"Final dictionary:\")\n",
    "\n",
    "for k, v in dictionary.items():\n",
    "    print(f\"{v}: '{k}'\")\n"
   ]
  },
  {
   "cell_type": "markdown",
   "metadata": {
    "deletable": false,
    "editable": false,
    "id": "UG7cwbf50GUx"
   },
   "source": [
    "### Question 4\n",
    "\n",
    "Implement a function that returns the encoded sequence using the LZ77 algorithm as described by the algorithm below given an input string and a sliding window size l. Reproduce the example given in Figure 2 with window_size=7."
   ]
  },
  {
   "cell_type": "code",
   "execution_count": 15,
   "metadata": {
    "id": "aHoBHPcL0GUy"
   },
   "outputs": [
    {
     "name": "stdout",
     "output_type": "stream",
     "text": [
      "Encoded sequence:\n",
      "(0, 0, 'a')\n",
      "(0, 0, 'b')\n",
      "(0, 0, 'r')\n",
      "(3, 1, 'c')\n",
      "(5, 1, 'd')\n",
      "(7, 4, 'd')\n"
     ]
    }
   ],
   "source": [
    "def LZ77(sequence, window_size=7):\n",
    "    \"\"\"\n",
    "    The Lempel-Ziv 77 algorithm given a sequence of symbols and the sliding window size\n",
    "\n",
    "    Arguments:\n",
    "    ----------\n",
    "    - sequence : Sequence of symbols in the string format\n",
    "    - window_size : sliding window size as an integer\n",
    "\n",
    "    Return:\n",
    "    -------\n",
    "    - encoded_sequence : the encoded sequence in the string format\n",
    "    \"\"\"\n",
    "\n",
    "    encoded_sequence = []\n",
    "    i = 0  # Current position in the input string\n",
    "    \n",
    "    while i < len(sequence):\n",
    "        match = (0, 0)  # (offset, length)\n",
    "        for j in range(max(0, i - window_size), i):\n",
    "            length = 0\n",
    "            while (i + length < len(sequence) and\n",
    "                   sequence[j + length] == sequence[i + length]):\n",
    "                length += 1\n",
    "                if j + length >= i:\n",
    "                    break  # Don't overflow current index\n",
    "            \n",
    "            if length > match[1]:\n",
    "                match = (i - j, length)\n",
    "        \n",
    "        # If a match is found\n",
    "        if match[1] > 0:\n",
    "            next_char_index = i + match[1]\n",
    "            next_char = sequence[next_char_index] if next_char_index < len(sequence) else ''\n",
    "            encoded_sequence.append((match[0], match[1], next_char))\n",
    "            i += match[1] + 1\n",
    "        else:\n",
    "            encoded_sequence.append((0, 0, sequence[i]))\n",
    "            i += 1\n",
    "\n",
    "    return encoded_sequence\n",
    "\n",
    "result = LZ77(\"abracadabrad\", window_size=7)\n",
    "\n",
    "print(\"Encoded sequence:\")\n",
    "\n",
    "for triplet in result:\n",
    "    print(triplet)\n",
    "\n"
   ]
  },
  {
   "cell_type": "code",
   "execution_count": 16,
   "metadata": {
    "deletable": false,
    "editable": false,
    "id": "EG1vVgUg0GUz"
   },
   "outputs": [],
   "source": [
    "# [Locked Cell] Evaluation of your functions by the examiner.\n",
    "# You don't have access to the evaluation, this will be done by the examiner.\n",
    "# Therefore, this cell will return nothing for the students.\n",
    "import os\n",
    "if os.path.isfile(\"private_evaluation.py\"):\n",
    "    from private_evaluation import unit_tests\n",
    "    unit_tests(Huffman_code, LZ_online, LZ77)"
   ]
  },
  {
   "cell_type": "markdown",
   "metadata": {
    "deletable": false,
    "editable": false,
    "id": "znaBCYTG0GU0"
   },
   "source": [
    "## Source coding and reversible (lossless) data compression\n"
   ]
  },
  {
   "cell_type": "code",
   "execution_count": 17,
   "metadata": {
    "id": "-F_fTEp10GU0"
   },
   "outputs": [],
   "source": [
    "# Write here your codes for questions 5 to 16 (you may delete this comment)\n",
    "# Question 5 :\n",
    "def compute_char_probabilities(text):\n",
    "    \"\"\"\n",
    "    Count character frequencies and compute probabilities.\n",
    "    Returns a dictionary: {char: prob}\n",
    "    \"\"\"\n",
    "    total_chars = len(text)\n",
    "    freq = {}\n",
    "    for char in text:\n",
    "        freq[char] = freq.get(char, 0) + 1\n",
    "\n",
    "    probabilities = {char: count / total_chars for char, count in freq.items()}\n",
    "    return probabilities\n",
    "\n",
    "\n",
    "def encode_text_with_huffman(text, huffman_codes):\n",
    "    \"\"\"\n",
    "    Replace each character in the text with its Huffman code.\n",
    "    \"\"\"\n",
    "    return ''.join(huffman_codes[char] for char in text)\n",
    "\n",
    "\n",
    "def compute_compression_metrics(original_text, encoded_text):\n",
    "    \"\"\"\n",
    "    Compute total encoded length and compression rate.\n",
    "    \"\"\"\n",
    "    original_bits = len(original_text) * 8  # ASCII: 8 bits per char\n",
    "    compressed_bits = len(encoded_text)\n",
    "    compression_rate = original_bits / compressed_bits if compressed_bits > 0 else 0\n",
    "    return compressed_bits, compression_rate"
   ]
  },
  {
   "cell_type": "code",
   "execution_count": 27,
   "metadata": {},
   "outputs": [
    {
     "name": "stdout",
     "output_type": "stream",
     "text": [
      "Total encoded length (bits): 239008\n",
      "Compression rate: 1.9496585888338465\n"
     ]
    }
   ],
   "source": [
    "# Step 1: Read file\n",
    "with open(\"data/english_text.txt\", \"r\") as file:\n",
    "    english_text = file.read()\n",
    "\n",
    "# Step 2: Compute probabilities\n",
    "probs = compute_char_probabilities(english_text)\n",
    "\n",
    "# Step 3: Generate Huffman code\n",
    "huffman_codes = Huffman_code(probs)\n",
    "\n",
    "# Step 4: Encode text\n",
    "encoded_text = encode_text_with_huffman(english_text, huffman_codes)\n",
    "\n",
    "# Step 5: Compute metrics\n",
    "total_length, compression_rate = compute_compression_metrics(english_text, encoded_text)\n",
    "\n",
    "print(\"Total encoded length (bits):\", total_length)\n",
    "print(\"Compression rate:\", compression_rate)\n"
   ]
  },
  {
   "cell_type": "code",
   "execution_count": 30,
   "metadata": {},
   "outputs": [],
   "source": [
    "# Question 6 :\n",
    "def calculate_expected_avg_length(probabilities, huffman_codes):\n",
    "    \"\"\"\n",
    "    Calculates the expected average code length given the probabilities and Huffman code lengths.\n",
    "    \"\"\"\n",
    "    return sum(prob * len(huffman_codes[char]) for char, prob in probabilities.items())\n",
    "\n",
    "def calculate_entropy(probabilities):\n",
    "    \"\"\"\n",
    "    Calculates the entropy of the source.\n",
    "    \"\"\"\n",
    "    return -sum(prob * np.log2(prob) for prob in probabilities.values())\n",
    "\n",
    "def calculate_empirical_avg_length(encoded_text, original_text_length):\n",
    "    \"\"\"\n",
    "    Average number of bits per character from the encoded output.\n",
    "    \"\"\"\n",
    "    return len(encoded_text) / original_text_length\n"
   ]
  },
  {
   "cell_type": "code",
   "execution_count": null,
   "metadata": {},
   "outputs": [
    {
     "name": "stdout",
     "output_type": "stream",
     "text": [
      "\n",
      "--- Question 6 Results ---\n",
      "Expected average code length: 4.10328\n",
      "Empirical average code length: 4.10328\n",
      "Entropy of the source (bits): 4.06223\n"
     ]
    }
   ],
   "source": [
    "expected_avg_len = calculate_expected_avg_length(probabilities, huffman_codes)\n",
    "entropy = calculate_entropy(probabilities)\n",
    "empirical_avg_len = calculate_empirical_avg_length(encoded_text, len(english_text))\n",
    "\n",
    "print(\"Expected average code length:\", round(expected_avg_len, 5))\n",
    "print(\"Empirical average code length:\", round(empirical_avg_len, 5))\n",
    "print(\"Entropy of the source (bits):\", round(entropy, 5))"
   ]
  },
  {
   "cell_type": "code",
   "execution_count": null,
   "metadata": {},
   "outputs": [
    {
     "data": {
      "image/png": "[encoded data removed]",
      "text/plain": [
       "<Figure size 1000x500 with 1 Axes>"
      ]
     },
     "metadata": {},
     "output_type": "display_data"
    }
   ],
   "source": [
    "# Question 7 :\n",
    "import matplotlib.pyplot as plt\n",
    "\n",
    "chunk_sizes = list(range(1000, len(english_text), 1000))\n",
    "avg_lengths = []\n",
    "\n",
    "for size in chunk_sizes:\n",
    "    chunk = english_text[:size]\n",
    "    probs_chunk = compute_char_probabilities(chunk)\n",
    "    huffman_chunk = Huffman_code(probs_chunk)\n",
    "    encoded_chunk = encode_text_with_huffman(chunk, huffman_chunk)\n",
    "    avg_len = calculate_empirical_avg_length(encoded_chunk, len(chunk))\n",
    "    avg_lengths.append(avg_len)\n",
    "\n",
    "# Plotting the result\n",
    "plt.figure(figsize=(10, 5))\n",
    "plt.plot(chunk_sizes, avg_lengths, marker='o')\n",
    "plt.title(\"Empirical Average Code Length vs Text Size (Huffman)\")\n",
    "plt.xlabel(\"Text Length (number of characters)\")\n",
    "plt.ylabel(\"Empirical Avg Code Length (bits per char)\")\n",
    "plt.grid(True)\n",
    "plt.tight_layout()\n",
    "plt.show()\n",
    "\n",
    "#Decomment this next line in case you want to save the plot for the report\n",
    "#plt.savefig(\"empirical_avg_code_length.png\")"
   ]
  },
  {
   "cell_type": "code",
   "execution_count": 34,
   "metadata": {},
   "outputs": [
    {
     "name": "stdout",
     "output_type": "stream",
     "text": [
      "Total encoded length (bits): 233396\n",
      "Compression rate: 1.9965380726319217\n"
     ]
    }
   ],
   "source": [
    "# Question 8 :\n",
    "\n",
    "import math\n",
    "\n",
    "# Run LZ78 on the text\n",
    "lz_dict, lz_encoded = LZ_online(english_text)\n",
    "\n",
    "# Determine bit size for indices\n",
    "max_index = len(lz_dict)\n",
    "index_bits = math.ceil(math.log2(max_index)) if max_index > 1 else 1\n",
    "\n",
    "# Each pair = index + character → index_bits + 5\n",
    "pair_bits = index_bits + 5\n",
    "total_bits = len(lz_encoded) * pair_bits\n",
    "\n",
    "# Original size in bits\n",
    "original_bits = len(english_text) * 8\n",
    "compression_rate = original_bits / total_bits\n",
    "\n",
    "print(\"Total encoded length (bits):\", total_bits)\n",
    "print(\"Compression rate:\", compression_rate)"
   ]
  },
  {
   "cell_type": "code",
   "execution_count": 41,
   "metadata": {},
   "outputs": [
    {
     "name": "stdout",
     "output_type": "stream",
     "text": [
      "Total encoded length (bits): 441364\n",
      "Compression rate: 1.0557816224250278\n"
     ]
    }
   ],
   "source": [
    "# Question 9 :\n",
    "'Since the sliding window size is 7, both the offset and the match length are limited to 7 values each. '\n",
    "'Hence, each requires 3 bits. The next symbol is encoded in 5 bits (to cover 26 letters + space), '\n",
    "'giving 11 bits per triplet in total.'\n",
    "\n",
    "\n",
    "lz77_encoded = LZ77(english_text, window_size=7)\n",
    "\n",
    "# Each triplet uses 11 bits (as explained)\n",
    "bits_per_triplet = 3 + 3 + 5\n",
    "total_bits_lz77 = len(lz77_encoded) * bits_per_triplet\n",
    "compression_rate_lz77 = original_bits / total_bits_lz77\n",
    "\n",
    "print(\"Total encoded length (bits):\", total_bits_lz77)\n",
    "print(\"Compression rate:\", compression_rate_lz77)\n"
   ]
  },
  {
   "cell_type": "code",
   "execution_count": 40,
   "metadata": {},
   "outputs": [
    {
     "name": "stdout",
     "output_type": "stream",
     "text": [
      "Number of triplets: 40124\n",
      "Total Huffman-encoded next_char bits: 174301\n",
      "Total encoded length (bits): 415045\n",
      "Compression rate: 1.122731270103242\n"
     ]
    }
   ],
   "source": [
    "#Question 11:\n",
    "# Step 1: LZ77 encoding\n",
    "lz77_encoded = LZ77(english_text, window_size=7)\n",
    "\n",
    "# Step 2: Extract next_char values\n",
    "next_chars = ''.join(triplet[2] for triplet in lz77_encoded if triplet[2] != '')\n",
    "\n",
    "# Step 3: Huffman coding for next_char symbols\n",
    "next_char_probs = compute_char_probabilities(next_chars)\n",
    "next_char_huffman = Huffman_code(next_char_probs)\n",
    "encoded_next_chars = encode_text_with_huffman(next_chars, next_char_huffman)\n",
    "\n",
    "# Step 4: Total bits = 6 bits per triplet for offset/length + Huffman bits for next_char\n",
    "metadata_bits = len(lz77_encoded) * 6\n",
    "total_bits_combined = metadata_bits + len(encoded_next_chars)\n",
    "\n",
    "# Step 5: Compression rate\n",
    "original_bits = len(english_text) * 8\n",
    "compression_rate_combined = original_bits / total_bits_combined\n",
    "\n",
    "# Output\n",
    "print(\"Number of triplets:\", len(lz77_encoded))\n",
    "print(\"Total Huffman-encoded next_char bits:\", len(encoded_next_chars))\n",
    "print(\"Total encoded length (bits):\", total_bits_combined)\n",
    "print(\"Compression rate:\", compression_rate_combined)"
   ]
  },
  {
   "cell_type": "code",
   "execution_count": null,
   "metadata": {},
   "outputs": [
    {
     "name": "stdout",
     "output_type": "stream",
     "text": [
      "\n",
      "--- Question 12: LZ77 vs LZ77+Huffman ---\n",
      "LZ78 total bits: 233396\n",
      "LZ78 compression rate: 1.9965380726319217\n",
      "\n",
      "Window\tLZ77_bits\tLZ77_rate\tCombined_bits\tCombined_rate\n",
      "     1\t   628859\t0.7410\t       577270\t0.8072\n",
      "  1001\t   145541\t3.2017\t       138265\t3.3702\n",
      "  2001\t   131120\t3.5539\t       124451\t3.7443\n",
      "  3001\t   123442\t3.7749\t       117101\t3.9793\n",
      "  4001\t   118492\t3.9326\t       112377\t4.1466\n",
      "  5001\t   115379\t4.0387\t       109376\t4.2604\n",
      "  6001\t   112288\t4.1499\t       106419\t4.3788\n",
      "  7001\t   109978\t4.2371\t       104243\t4.4702\n",
      "  8001\t   104027\t4.4795\t        98641\t4.7240\n",
      "  9001\t   102806\t4.5327\t        97449\t4.7818\n",
      " 10001\t   101651\t4.5842\t        96308\t4.8385\n"
     ]
    }
   ],
   "source": [
    "#Question 12:\n",
    "window_sizes = list(range(1, 11001, 1000))\n",
    "\n",
    "lz77_lengths = []\n",
    "lz77_rates = []\n",
    "\n",
    "combined_lengths = []\n",
    "combined_rates = []\n",
    "\n",
    "# Reuse LZ78 once to compare later\n",
    "lz78_dict, lz78_encoded = LZ_online(english_text)\n",
    "lz78_index_bits = math.ceil(math.log2(len(lz78_dict))) if len(lz78_dict) > 1 else 1\n",
    "lz78_total_bits = len(lz78_encoded) * (lz78_index_bits + 5)\n",
    "lz78_rate = (len(english_text) * 8) / lz78_total_bits\n",
    "\n",
    "for w in window_sizes:\n",
    "    # -- LZ77 Only --\n",
    "    triplets = LZ77(english_text, window_size=w)\n",
    "    bits_per_triplet = 3 + 3 + 5  # fixed fields\n",
    "    total_lz77 = len(triplets) * bits_per_triplet\n",
    "    rate_lz77 = (len(english_text) * 8) / total_lz77\n",
    "    lz77_lengths.append(total_lz77)\n",
    "    lz77_rates.append(rate_lz77)\n",
    "\n",
    "    # -- LZ77 + Huffman --\n",
    "    next_chars = ''.join(t[2] for t in triplets if t[2] != '')\n",
    "    if next_chars:\n",
    "        next_probs = compute_char_probabilities(next_chars)\n",
    "        huff = Huffman_code(next_probs)\n",
    "        encoded = encode_text_with_huffman(next_chars, huff)\n",
    "        total_combined = len(triplets) * 6 + len(encoded)\n",
    "        rate_combined = (len(english_text) * 8) / total_combined\n",
    "    else:\n",
    "        total_combined = len(triplets) * 6\n",
    "        rate_combined = (len(english_text) * 8) / total_combined\n",
    "\n",
    "    combined_lengths.append(total_combined)\n",
    "    combined_rates.append(rate_combined)\n",
    "\n",
    "# Print summary\n",
    "print(\"LZ78 total bits:\", lz78_total_bits)\n",
    "print(\"LZ78 compression rate:\", lz78_rate)\n",
    "print(\"\\nWindow\\tLZ77_bits\\tLZ77_rate\\tCombined_bits\\tCombined_rate\")\n",
    "for i in range(len(window_sizes)):\n",
    "    print(f\"{window_sizes[i]:>6}\\t{lz77_lengths[i]:>9}\\t{lz77_rates[i]:.4f}\\t{combined_lengths[i]:>13}\\t{combined_rates[i]:.4f}\")\n"
   ]
  },
  {
   "cell_type": "code",
   "execution_count": null,
   "metadata": {},
   "outputs": [],
   "source": [
    "#Question 14:\n",
    "# -- a) Huffman on encrypted text --\n",
    "prob_encrypted = compute_char_probabilities(encrypted_text)\n",
    "huff_encrypted = Huffman_code(prob_encrypted)\n",
    "encoded_encrypted = encode_text_with_huffman(encrypted_text, huff_encrypted)\n",
    "\n",
    "total_bits_huffman = len(encoded_encrypted)\n",
    "original_bits = len(encrypted_text) * 8\n",
    "compression_rate_huffman = original_bits / total_bits_huffman\n",
    "\n",
    "print(\"\\n--- Question 14: Huffman on Encrypted Text ---\")\n",
    "print(\"Total encoded length (bits):\", total_bits_huffman)\n",
    "print(\"Compression rate:\", compression_rate_huffman)\n",
    "\n",
    "# -- b) LZ77 on encrypted text --\n",
    "lz77_enc = LZ77(encrypted_text, window_size=7)\n",
    "bits_per_triplet = 3 + 3 + 5\n",
    "total_bits_lz77 = len(lz77_enc) * bits_per_triplet\n",
    "compression_rate_lz77 = original_bits / total_bits_lz77\n",
    "\n",
    "print(\"\\n--- Question 14: LZ77 on Encrypted Text ---\")\n",
    "print(\"Number of triplets:\", len(lz77_enc))\n",
    "print(\"Total encoded length (bits):\", total_bits_lz77)\n",
    "print(\"Compression rate:\", compression_rate_lz77)"
   ]
  },
  {
   "cell_type": "markdown",
   "metadata": {
    "id": "arr1rcE65c6K"
   },
   "source": [
    "## Channel coding"
   ]
  },
  {
   "cell_type": "code",
   "execution_count": 7,
   "metadata": {
    "id": "ZLwLdqlh5qE5"
   },
   "outputs": [],
   "source": [
    "# Write here your codes for questions 17 to 22 (you may delete this comment)"
   ]
  }
 ],
 "metadata": {
  "celltoolbar": "Edit Metadata",
  "colab": {
   "provenance": []
  },
  "kernelspec": {
   "display_name": "base",
   "language": "python",
   "name": "python3"
  },
  "language_info": {
   "codemirror_mode": {
    "name": "ipython",
    "version": 3
   },
   "file_extension": ".py",
   "mimetype": "text/x-python",
   "name": "python",
   "nbconvert_exporter": "python",
   "pygments_lexer": "ipython3",
   "version": "3.11.4"
  }
 },
 "nbformat": 4,
 "nbformat_minor": 0
}
